{
 "cells": [
  {
   "cell_type": "markdown",
   "metadata": {},
   "source": [
    "# Blogging using Hugo"
   ]
  },
  {
   "cell_type": "markdown",
   "metadata": {},
   "source": [
    "## Blog creation"
   ]
  },
  {
   "cell_type": "code",
   "execution_count": null,
   "metadata": {
    "collapsed": true
   },
   "outputs": [],
   "source": [
    "hugo new site blog"
   ]
  },
  {
   "cell_type": "code",
   "execution_count": 1,
   "metadata": {
    "collapsed": true
   },
   "outputs": [],
   "source": [
    "cd blog"
   ]
  },
  {
   "cell_type": "markdown",
   "metadata": {},
   "source": [
    "## Post creation"
   ]
  },
  {
   "cell_type": "code",
   "execution_count": 4,
   "metadata": {},
   "outputs": [
    {
     "name": "stdout",
     "output_type": "stream",
     "text": [
      "/Users/Govind/Documents/022017Personal/blog/content/post/blockchain-basics-cryptography-keys.md created\n"
     ]
    }
   ],
   "source": [
    "hugo new post/blockchain-basics-cryptography-keys.md"
   ]
  },
  {
   "cell_type": "code",
   "execution_count": null,
   "metadata": {
    "collapsed": true
   },
   "outputs": [],
   "source": [
    "vi content/post/bitcoin-basics.md"
   ]
  },
  {
   "cell_type": "markdown",
   "metadata": {},
   "source": [
    "## Site generation"
   ]
  },
  {
   "cell_type": "markdown",
   "metadata": {},
   "source": [
    "### Preview"
   ]
  },
  {
   "cell_type": "code",
   "execution_count": null,
   "metadata": {
    "collapsed": true
   },
   "outputs": [],
   "source": [
    "hugo server --theme=beautifulhugo --buildDrafts"
   ]
  },
  {
   "cell_type": "markdown",
   "metadata": {},
   "source": [
    "### Gen\n",
    "Don't forget not remove draft status."
   ]
  },
  {
   "cell_type": "code",
   "execution_count": 1,
   "metadata": {},
   "outputs": [
    {
     "name": "stdout",
     "output_type": "stream",
     "text": [
      "Started building sites ...\n",
      "Built site for language en:\n",
      "0 of 1 draft rendered\n",
      "0 future content\n",
      "0 expired content\n",
      "3 regular pages created\n",
      "8 other pages created\n",
      "0 non-page files copied\n",
      "2 paginator pages created\n",
      "0 tags created\n",
      "0 categories created\n",
      "total in 22 ms\n"
     ]
    }
   ],
   "source": [
    "hugo --theme=beautifulhugo "
   ]
  },
  {
   "cell_type": "markdown",
   "metadata": {},
   "source": [
    "## Deployment"
   ]
  },
  {
   "cell_type": "markdown",
   "metadata": {},
   "source": [
    "### Content"
   ]
  },
  {
   "cell_type": "code",
   "execution_count": 2,
   "metadata": {},
   "outputs": [
    {
     "name": "stdout",
     "output_type": "stream",
     "text": [
      "[master 043a3ba] new content added\n",
      " 4 files changed, 83 insertions(+), 41 deletions(-)\n",
      "Counting objects: 8, done.\n",
      "Delta compression using up to 4 threads.\n",
      "Compressing objects: 100% (8/8), done.\n",
      "Writing objects: 100% (8/8), 1.65 KiB | 0 bytes/s, done.\n",
      "Total 8 (delta 4), reused 0 (delta 0)\n",
      "remote: Resolving deltas: 100% (4/4), completed with 4 local objects.\u001b[K\n",
      "To github.com:govidat/blog.git\n",
      "   d7115b9..043a3ba  master -> master\n"
     ]
    }
   ],
   "source": [
    "cd /Users/Govind/Documents/022017Personal/blog\n",
    "git add .\n",
    "git commit -m \"new content added\"\n",
    "git push origin master"
   ]
  },
  {
   "cell_type": "markdown",
   "metadata": {},
   "source": [
    "### Presentation"
   ]
  },
  {
   "cell_type": "code",
   "execution_count": 3,
   "metadata": {},
   "outputs": [
    {
     "name": "stdout",
     "output_type": "stream",
     "text": [
      "[gh-pages dc85a26] new presentation added\n",
      " 1 file changed, 4 insertions(+)\n",
      "Counting objects: 5, done.\n",
      "Delta compression using up to 4 threads.\n",
      "Compressing objects: 100% (4/4), done.\n",
      "Writing objects: 100% (5/5), 874 bytes | 0 bytes/s, done.\n",
      "Total 5 (delta 3), reused 0 (delta 0)\n",
      "remote: Resolving deltas: 100% (3/3), completed with 3 local objects.\u001b[K\n",
      "To github.com:govidat/blog.git\n",
      "   0e71c96..dc85a26  gh-pages -> gh-pages\n"
     ]
    }
   ],
   "source": [
    "cd public\n",
    "git add .\n",
    "git commit -m \"new presentation added\"\n",
    "git push origin gh-pages\n",
    "cd .."
   ]
  }
 ],
 "metadata": {
  "kernelspec": {
   "display_name": "Bash",
   "language": "bash",
   "name": "bash"
  },
  "language_info": {
   "codemirror_mode": "shell",
   "file_extension": ".sh",
   "mimetype": "text/x-sh",
   "name": "bash"
  }
 },
 "nbformat": 4,
 "nbformat_minor": 2
}
