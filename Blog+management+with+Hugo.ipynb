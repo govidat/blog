{
 "cells": [
  {
   "cell_type": "markdown",
   "metadata": {},
   "source": [
    "# Blogging using Hugo"
   ]
  },
  {
   "cell_type": "markdown",
   "metadata": {},
   "source": [
    "## Blog creation"
   ]
  },
  {
   "cell_type": "code",
   "execution_count": null,
   "metadata": {
    "collapsed": true
   },
   "outputs": [],
   "source": [
    "hugo new site blog"
   ]
  },
  {
   "cell_type": "code",
   "execution_count": 1,
   "metadata": {
    "collapsed": true
   },
   "outputs": [],
   "source": [
    "cd blog"
   ]
  },
  {
   "cell_type": "markdown",
   "metadata": {},
   "source": [
    "## Post creation"
   ]
  },
  {
   "cell_type": "code",
   "execution_count": 2,
   "metadata": {},
   "outputs": [
    {
     "name": "stdout",
     "output_type": "stream",
     "text": [
      "/Users/Govind/Documents/022017Personal/blog/content/post/blockchain-basics-cryptography.md created\n"
     ]
    }
   ],
   "source": [
    "hugo new post/blockchain-basics-cryptography.md"
   ]
  },
  {
   "cell_type": "code",
   "execution_count": null,
   "metadata": {
    "collapsed": true
   },
   "outputs": [],
   "source": [
    "vi content/post/bitcoin-basics.md"
   ]
  },
  {
   "cell_type": "markdown",
   "metadata": {},
   "source": [
    "## Site generation"
   ]
  },
  {
   "cell_type": "markdown",
   "metadata": {},
   "source": [
    "### Preview"
   ]
  },
  {
   "cell_type": "code",
   "execution_count": null,
   "metadata": {},
   "outputs": [],
   "source": [
    "hugo server --theme=beautifulhugo --buildDrafts"
   ]
  },
  {
   "cell_type": "markdown",
   "metadata": {},
   "source": [
    "### Gen\n",
    "Don't forget not remove draft status."
   ]
  },
  {
   "cell_type": "code",
   "execution_count": null,
   "metadata": {
    "collapsed": true
   },
   "outputs": [],
   "source": [
    "hugo --theme=beautifulhugo "
   ]
  },
  {
   "cell_type": "markdown",
   "metadata": {},
   "source": [
    "## Deployment"
   ]
  },
  {
   "cell_type": "markdown",
   "metadata": {},
   "source": [
    "### Content"
   ]
  },
  {
   "cell_type": "code",
   "execution_count": 2,
   "metadata": {},
   "outputs": [
    {
     "name": "stdout",
     "output_type": "stream",
     "text": [
      "[master aaa2e46] new content added\n",
      " 2 files changed, 3 insertions(+), 3 deletions(-)\n",
      "Counting objects: 6, done.\n",
      "Delta compression using up to 4 threads.\n",
      "Compressing objects: 100% (6/6), done.\n",
      "Writing objects: 100% (6/6), 654 bytes | 0 bytes/s, done.\n",
      "Total 6 (delta 2), reused 0 (delta 0)\n",
      "remote: Resolving deltas: 100% (2/2), completed with 2 local objects.\u001b[K\n",
      "To github.com:govidat/blog.git\n",
      "   ae3b088..aaa2e46  master -> master\n"
     ]
    }
   ],
   "source": [
    "cd /Users/Govind/Documents/022017Personal/blog\n",
    "git add .\n",
    "git commit -m \"new content added\"\n",
    "git push origin master"
   ]
  },
  {
   "cell_type": "markdown",
   "metadata": {},
   "source": [
    "### Presentation"
   ]
  },
  {
   "cell_type": "code",
   "execution_count": 3,
   "metadata": {},
   "outputs": [
    {
     "name": "stdout",
     "output_type": "stream",
     "text": [
      "[gh-pages 5b3a6d9] new presentation added\n",
      " 3 files changed, 3 insertions(+), 3 deletions(-)\n",
      " create mode 100644 post/.DS_Store\n",
      "Counting objects: 7, done.\n",
      "Delta compression using up to 4 threads.\n",
      "Compressing objects: 100% (6/6), done.\n",
      "Writing objects: 100% (7/7), 916 bytes | 0 bytes/s, done.\n",
      "Total 7 (delta 4), reused 0 (delta 0)\n",
      "remote: Resolving deltas: 100% (4/4), completed with 4 local objects.\u001b[K\n",
      "To github.com:govidat/blog.git\n",
      "   772ed54..5b3a6d9  gh-pages -> gh-pages\n"
     ]
    }
   ],
   "source": [
    "cd public\n",
    "git add .\n",
    "git commit -m \"new presentation added\"\n",
    "git push origin gh-pages"
   ]
  }
 ],
 "metadata": {
  "kernelspec": {
   "display_name": "Bash",
   "language": "bash",
   "name": "bash"
  },
  "language_info": {
   "codemirror_mode": "shell",
   "file_extension": ".sh",
   "mimetype": "text/x-sh",
   "name": "bash"
  }
 },
 "nbformat": 4,
 "nbformat_minor": 2
}
