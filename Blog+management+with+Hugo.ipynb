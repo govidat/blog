{
 "cells": [
  {
   "cell_type": "markdown",
   "metadata": {},
   "source": [
    "# Blogging using Hugo"
   ]
  },
  {
   "cell_type": "markdown",
   "metadata": {},
   "source": [
    "## Blog creation"
   ]
  },
  {
   "cell_type": "code",
   "execution_count": null,
   "metadata": {
    "collapsed": true
   },
   "outputs": [],
   "source": [
    "hugo new site blog"
   ]
  },
  {
   "cell_type": "code",
   "execution_count": 1,
   "metadata": {
    "collapsed": true
   },
   "outputs": [],
   "source": [
    "cd blog"
   ]
  },
  {
   "cell_type": "markdown",
   "metadata": {},
   "source": [
    "## Post creation"
   ]
  },
  {
   "cell_type": "code",
   "execution_count": 1,
   "metadata": {},
   "outputs": [
    {
     "name": "stdout",
     "output_type": "stream",
     "text": [
      "/Users/Govind/Documents/022017Personal/blog/content/post/blockchain-basics-BFT.md created\n"
     ]
    }
   ],
   "source": [
    "hugo new post/blockchain-basics-BFT.md"
   ]
  },
  {
   "cell_type": "code",
   "execution_count": null,
   "metadata": {
    "collapsed": true
   },
   "outputs": [],
   "source": [
    "vi content/post/bitcoin-basics.md"
   ]
  },
  {
   "cell_type": "markdown",
   "metadata": {},
   "source": [
    "## Site generation"
   ]
  },
  {
   "cell_type": "markdown",
   "metadata": {},
   "source": [
    "### Preview"
   ]
  },
  {
   "cell_type": "code",
   "execution_count": null,
   "metadata": {},
   "outputs": [
    {
     "name": "stdout",
     "output_type": "stream",
     "text": [
      "Started building sites ...\n",
      "Built site for language en:\n",
      "1 of 1 draft rendered\n",
      "0 future content\n",
      "0 expired content\n",
      "5 regular pages created\n",
      "8 other pages created\n",
      "0 non-page files copied\n",
      "2 paginator pages created\n",
      "0 tags created\n",
      "0 categories created\n",
      "total in 41 ms\n",
      "Watching for changes in /Users/Govind/Documents/022017Personal/blog/{data,content,layouts,static,themes}\n",
      "Serving pages from memory\n",
      "Web Server is available at http://localhost:1313/blog/ (bind address 127.0.0.1)\n",
      "Press Ctrl+C to stop\n",
      "\n",
      "Change detected, rebuilding site\n",
      "2017-07-18 15:42 +0530\n",
      "Source changed \"/Users/Govind/Documents/022017Personal/blog/content/post/blockchain-basics-BFT.md\": REMOVE\n",
      "Source changed \"/Users/Govind/Documents/022017Personal/blog/content/post/blockchain-basics-BFT.md\": CREATE\n",
      "Built site for language en:\n",
      "1 of 1 draft rendered\n",
      "0 future content\n",
      "0 expired content\n",
      "5 regular pages created\n",
      "8 other pages created\n",
      "0 non-page files copied\n",
      "2 paginator pages created\n",
      "0 tags created\n",
      "0 categories created\n",
      "total in 29 ms\n",
      "\n",
      "Change detected, rebuilding site\n",
      "2017-07-18 15:42 +0530\n",
      "Source changed \"/Users/Govind/Documents/022017Personal/blog/content/post/blockchain-basics-BFT.md\": REMOVE\n",
      "Source changed \"/Users/Govind/Documents/022017Personal/blog/content/post/blockchain-basics-BFT.md\": CREATE\n",
      "Built site for language en:\n",
      "1 of 1 draft rendered\n",
      "0 future content\n",
      "0 expired content\n",
      "5 regular pages created\n",
      "8 other pages created\n",
      "0 non-page files copied\n",
      "2 paginator pages created\n",
      "0 categories created\n",
      "0 tags created\n",
      "total in 25 ms\n",
      "\n",
      "Change detected, rebuilding site\n",
      "2017-07-18 15:43 +0530\n",
      "Source changed \"/Users/Govind/Documents/022017Personal/blog/content/post/blockchain-basics-BFT.md\": REMOVE\n",
      "Source changed \"/Users/Govind/Documents/022017Personal/blog/content/post/blockchain-basics-BFT.md\": CREATE\n",
      "Built site for language en:\n",
      "1 of 1 draft rendered\n",
      "0 future content\n",
      "0 expired content\n",
      "5 regular pages created\n",
      "8 other pages created\n",
      "0 non-page files copied\n",
      "2 paginator pages created\n",
      "0 tags created\n",
      "0 categories created\n",
      "total in 16 ms\n",
      "\n",
      "Change detected, rebuilding site\n",
      "2017-07-18 15:45 +0530\n",
      "Source changed \"/Users/Govind/Documents/022017Personal/blog/content/post/blockchain-basics-BFT.md\": REMOVE\n",
      "Source changed \"/Users/Govind/Documents/022017Personal/blog/content/post/blockchain-basics-BFT.md\": CREATE\n",
      "Built site for language en:\n",
      "1 of 1 draft rendered\n",
      "0 future content\n",
      "0 expired content\n",
      "5 regular pages created\n",
      "8 other pages created\n",
      "0 non-page files copied\n",
      "2 paginator pages created\n",
      "0 tags created\n",
      "0 categories created\n",
      "total in 18 ms\n",
      "\n",
      "Change detected, rebuilding site\n",
      "2017-07-18 15:45 +0530\n",
      "Source changed \"/Users/Govind/Documents/022017Personal/blog/content/post/blockchain-basics-BFT.md\": REMOVE\n",
      "Source changed \"/Users/Govind/Documents/022017Personal/blog/content/post/blockchain-basics-BFT.md\": CREATE\n",
      "Built site for language en:\n",
      "1 of 1 draft rendered\n",
      "0 future content\n",
      "0 expired content\n",
      "5 regular pages created\n",
      "8 other pages created\n",
      "0 non-page files copied\n",
      "2 paginator pages created\n",
      "0 tags created\n",
      "0 categories created\n",
      "total in 24 ms\n",
      "\n",
      "Change detected, rebuilding site\n",
      "2017-07-18 15:47 +0530\n",
      "Source changed \"/Users/Govind/Documents/022017Personal/blog/content/post/blockchain-basics-BFT.md\": REMOVE\n",
      "Source changed \"/Users/Govind/Documents/022017Personal/blog/content/post/blockchain-basics-BFT.md\": CREATE\n",
      "Built site for language en:\n",
      "1 of 1 draft rendered\n",
      "0 future content\n",
      "0 expired content\n",
      "5 regular pages created\n",
      "8 other pages created\n",
      "0 non-page files copied\n",
      "2 paginator pages created\n",
      "0 tags created\n",
      "0 categories created\n",
      "total in 16 ms\n",
      "\n",
      "Change detected, rebuilding site\n",
      "2017-07-18 15:49 +0530\n",
      "Source changed \"/Users/Govind/Documents/022017Personal/blog/content/post/blockchain-basics-BFT.md\": REMOVE\n",
      "Source changed \"/Users/Govind/Documents/022017Personal/blog/content/post/blockchain-basics-BFT.md\": CREATE\n",
      "Built site for language en:\n",
      "1 of 1 draft rendered\n",
      "0 future content\n",
      "0 expired content\n",
      "5 regular pages created\n",
      "8 other pages created\n",
      "0 non-page files copied\n",
      "2 paginator pages created\n",
      "0 tags created\n",
      "0 categories created\n",
      "total in 22 ms\n",
      "\n",
      "Change detected, rebuilding site\n",
      "2017-07-18 15:50 +0530\n",
      "Source changed \"/Users/Govind/Documents/022017Personal/blog/content/post/blockchain-basics-BFT.md\": REMOVE\n",
      "Source changed \"/Users/Govind/Documents/022017Personal/blog/content/post/blockchain-basics-BFT.md\": CREATE\n",
      "Built site for language en:\n",
      "1 of 1 draft rendered\n",
      "0 future content\n",
      "0 expired content\n",
      "5 regular pages created\n",
      "8 other pages created\n",
      "0 non-page files copied\n",
      "2 paginator pages created\n",
      "0 tags created\n",
      "0 categories created\n",
      "total in 20 ms\n",
      "\n",
      "Change detected, rebuilding site\n",
      "2017-07-18 15:50 +0530\n",
      "Source changed \"/Users/Govind/Documents/022017Personal/blog/content/post/blockchain-basics-BFT.md\": REMOVE\n",
      "Source changed \"/Users/Govind/Documents/022017Personal/blog/content/post/blockchain-basics-BFT.md\": CREATE\n",
      "Built site for language en:\n",
      "1 of 1 draft rendered\n",
      "0 future content\n",
      "0 expired content\n",
      "5 regular pages created\n",
      "8 other pages created\n",
      "0 non-page files copied\n",
      "2 paginator pages created\n",
      "0 tags created\n",
      "0 categories created\n",
      "total in 19 ms\n",
      "\n",
      "Change detected, rebuilding site\n",
      "2017-07-18 15:52 +0530\n",
      "Source changed \"/Users/Govind/Documents/022017Personal/blog/content/post/blockchain-basics-BFT.md\": REMOVE\n",
      "Source changed \"/Users/Govind/Documents/022017Personal/blog/content/post/blockchain-basics-BFT.md\": CREATE\n",
      "Built site for language en:\n",
      "1 of 1 draft rendered\n",
      "0 future content\n",
      "0 expired content\n",
      "5 regular pages created\n",
      "8 other pages created\n",
      "0 non-page files copied\n",
      "2 paginator pages created\n",
      "0 tags created\n",
      "0 categories created\n",
      "total in 21 ms\n",
      "\n",
      "Change detected, rebuilding site\n",
      "2017-07-18 15:53 +0530\n",
      "Source changed \"/Users/Govind/Documents/022017Personal/blog/content/post/blockchain-basics-BFT.md\": REMOVE\n",
      "Source changed \"/Users/Govind/Documents/022017Personal/blog/content/post/blockchain-basics-BFT.md\": CREATE\n",
      "Built site for language en:\n",
      "1 of 1 draft rendered\n",
      "0 future content\n",
      "0 expired content\n",
      "5 regular pages created\n",
      "8 other pages created\n",
      "0 non-page files copied\n",
      "2 paginator pages created\n",
      "0 tags created\n",
      "0 categories created\n",
      "total in 16 ms\n",
      "\n",
      "Change detected, rebuilding site\n",
      "2017-07-18 15:53 +0530\n",
      "Source changed \"/Users/Govind/Documents/022017Personal/blog/content/post/blockchain-basics-BFT.md\": REMOVE\n",
      "Source changed \"/Users/Govind/Documents/022017Personal/blog/content/post/blockchain-basics-BFT.md\": CREATE\n",
      "Built site for language en:\n",
      "1 of 1 draft rendered\n",
      "0 future content\n",
      "0 expired content\n",
      "5 regular pages created\n",
      "8 other pages created\n",
      "0 non-page files copied\n",
      "2 paginator pages created\n",
      "0 tags created\n",
      "0 categories created\n",
      "total in 21 ms\n",
      "\n",
      "Static file changes detected\n",
      "2017-07-18 15:55 +0530\n",
      "Syncing /img/image17.png to /\n"
     ]
    }
   ],
   "source": [
    "hugo server --theme=beautifulhugo --buildDrafts"
   ]
  },
  {
   "cell_type": "markdown",
   "metadata": {},
   "source": [
    "### Gen\n",
    "Don't forget not remove draft status."
   ]
  },
  {
   "cell_type": "code",
   "execution_count": 7,
   "metadata": {},
   "outputs": [
    {
     "name": "stdout",
     "output_type": "stream",
     "text": [
      "Started building sites ...\n",
      "Built site for language en:\n",
      "0 draft content\n",
      "0 future content\n",
      "0 expired content\n",
      "4 regular pages created\n",
      "8 other pages created\n",
      "0 non-page files copied\n",
      "2 paginator pages created\n",
      "0 tags created\n",
      "0 categories created\n",
      "total in 23 ms\n"
     ]
    }
   ],
   "source": [
    "hugo --theme=beautifulhugo "
   ]
  },
  {
   "cell_type": "markdown",
   "metadata": {},
   "source": [
    "## Deployment"
   ]
  },
  {
   "cell_type": "markdown",
   "metadata": {},
   "source": [
    "### Content"
   ]
  },
  {
   "cell_type": "code",
   "execution_count": 8,
   "metadata": {},
   "outputs": [
    {
     "name": "stdout",
     "output_type": "stream",
     "text": [
      "[master 76d531f] new content added\n",
      " 4 files changed, 25 insertions(+), 25 deletions(-)\n",
      "Counting objects: 8, done.\n",
      "Delta compression using up to 4 threads.\n",
      "Compressing objects: 100% (8/8), done.\n",
      "Writing objects: 100% (8/8), 1.01 KiB | 0 bytes/s, done.\n",
      "Total 8 (delta 5), reused 0 (delta 0)\n",
      "remote: Resolving deltas: 100% (5/5), completed with 5 local objects.\u001b[K\n",
      "To github.com:govidat/blog.git\n",
      "   b6f8f81..76d531f  master -> master\n"
     ]
    }
   ],
   "source": [
    "cd /Users/Govind/Documents/022017Personal/blog\n",
    "git add .\n",
    "git commit -m \"new content added\"\n",
    "git push origin master"
   ]
  },
  {
   "cell_type": "markdown",
   "metadata": {},
   "source": [
    "### Presentation"
   ]
  },
  {
   "cell_type": "code",
   "execution_count": 9,
   "metadata": {},
   "outputs": [
    {
     "name": "stdout",
     "output_type": "stream",
     "text": [
      "[gh-pages bc34bbb] new presentation added\n",
      " 3 files changed, 6 insertions(+), 6 deletions(-)\n",
      "Counting objects: 9, done.\n",
      "Delta compression using up to 4 threads.\n",
      "Compressing objects: 100% (6/6), done.\n",
      "Writing objects: 100% (9/9), 774 bytes | 0 bytes/s, done.\n",
      "Total 9 (delta 5), reused 0 (delta 0)\n",
      "remote: Resolving deltas: 100% (5/5), completed with 5 local objects.\u001b[K\n",
      "To github.com:govidat/blog.git\n",
      "   519d8e0..bc34bbb  gh-pages -> gh-pages\n"
     ]
    }
   ],
   "source": [
    "cd public\n",
    "git add .\n",
    "git commit -m \"new presentation added\"\n",
    "git push origin gh-pages\n",
    "cd .."
   ]
  }
 ],
 "metadata": {
  "kernelspec": {
   "display_name": "Bash",
   "language": "bash",
   "name": "bash"
  },
  "language_info": {
   "codemirror_mode": "shell",
   "file_extension": ".sh",
   "mimetype": "text/x-sh",
   "name": "bash"
  }
 },
 "nbformat": 4,
 "nbformat_minor": 2
}
