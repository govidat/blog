{
 "cells": [
  {
   "cell_type": "markdown",
   "metadata": {},
   "source": [
    "# Blogging using Hugo"
   ]
  },
  {
   "cell_type": "markdown",
   "metadata": {},
   "source": [
    "## Blog creation"
   ]
  },
  {
   "cell_type": "code",
   "execution_count": null,
   "metadata": {
    "collapsed": true
   },
   "outputs": [],
   "source": [
    "hugo new site blog"
   ]
  },
  {
   "cell_type": "code",
   "execution_count": 1,
   "metadata": {
    "collapsed": true
   },
   "outputs": [],
   "source": [
    "cd blog"
   ]
  },
  {
   "cell_type": "markdown",
   "metadata": {},
   "source": [
    "## Post creation"
   ]
  },
  {
   "cell_type": "code",
   "execution_count": 4,
   "metadata": {},
   "outputs": [
    {
     "name": "stdout",
     "output_type": "stream",
     "text": [
      "/Users/Govind/Documents/022017Personal/blog/content/post/blockchain-basics-cryptography-keys.md created\n"
     ]
    }
   ],
   "source": [
    "hugo new post/blockchain-basics-cryptography-keys.md"
   ]
  },
  {
   "cell_type": "code",
   "execution_count": null,
   "metadata": {
    "collapsed": true
   },
   "outputs": [],
   "source": [
    "vi content/post/bitcoin-basics.md"
   ]
  },
  {
   "cell_type": "markdown",
   "metadata": {},
   "source": [
    "## Site generation"
   ]
  },
  {
   "cell_type": "markdown",
   "metadata": {},
   "source": [
    "### Preview"
   ]
  },
  {
   "cell_type": "code",
   "execution_count": null,
   "metadata": {
    "collapsed": true
   },
   "outputs": [],
   "source": [
    "hugo server --theme=beautifulhugo --buildDrafts"
   ]
  },
  {
   "cell_type": "markdown",
   "metadata": {},
   "source": [
    "### Gen\n",
    "Don't forget not remove draft status."
   ]
  },
  {
   "cell_type": "code",
   "execution_count": 5,
   "metadata": {},
   "outputs": [
    {
     "name": "stdout",
     "output_type": "stream",
     "text": [
      "Started building sites ...\n",
      "Built site for language en:\n",
      "0 draft content\n",
      "0 future content\n",
      "0 expired content\n",
      "3 regular pages created\n",
      "8 other pages created\n",
      "0 non-page files copied\n",
      "2 paginator pages created\n",
      "0 tags created\n",
      "0 categories created\n",
      "total in 33 ms\n"
     ]
    }
   ],
   "source": [
    "hugo --theme=beautifulhugo "
   ]
  },
  {
   "cell_type": "markdown",
   "metadata": {},
   "source": [
    "## Deployment"
   ]
  },
  {
   "cell_type": "markdown",
   "metadata": {},
   "source": [
    "### Content"
   ]
  },
  {
   "cell_type": "code",
   "execution_count": 6,
   "metadata": {},
   "outputs": [
    {
     "name": "stdout",
     "output_type": "stream",
     "text": [
      "[master 1cb29ab] new content added\n",
      " 5 files changed, 46 insertions(+), 65 deletions(-)\n",
      " delete mode 100644 content/post/bitcoin-basics.md\n",
      " create mode 100644 static/img/image8.png\n",
      "Counting objects: 10, done.\n",
      "Delta compression using up to 4 threads.\n",
      "Compressing objects: 100% (10/10), done.\n",
      "Writing objects: 100% (10/10), 43.06 KiB | 0 bytes/s, done.\n",
      "Total 10 (delta 5), reused 0 (delta 0)\n",
      "remote: Resolving deltas: 100% (5/5), completed with 5 local objects.\u001b[K\n",
      "To github.com:govidat/blog.git\n",
      "   043a3ba..1cb29ab  master -> master\n"
     ]
    }
   ],
   "source": [
    "cd /Users/Govind/Documents/022017Personal/blog\n",
    "git add .\n",
    "git commit -m \"new content added\"\n",
    "git push origin master"
   ]
  },
  {
   "cell_type": "markdown",
   "metadata": {},
   "source": [
    "### Presentation"
   ]
  },
  {
   "cell_type": "code",
   "execution_count": 7,
   "metadata": {},
   "outputs": [
    {
     "name": "stdout",
     "output_type": "stream",
     "text": [
      "[gh-pages ddff5d9] new presentation added\n",
      " 2 files changed, 26 insertions(+)\n",
      " create mode 100644 img/image8.png\n",
      "Counting objects: 7, done.\n",
      "Delta compression using up to 4 threads.\n",
      "Compressing objects: 100% (6/6), done.\n",
      "Writing objects: 100% (7/7), 42.45 KiB | 0 bytes/s, done.\n",
      "Total 7 (delta 4), reused 0 (delta 0)\n",
      "remote: Resolving deltas: 100% (4/4), completed with 4 local objects.\u001b[K\n",
      "To github.com:govidat/blog.git\n",
      "   dc85a26..ddff5d9  gh-pages -> gh-pages\n"
     ]
    }
   ],
   "source": [
    "cd public\n",
    "git add .\n",
    "git commit -m \"new presentation added\"\n",
    "git push origin gh-pages\n",
    "cd .."
   ]
  }
 ],
 "metadata": {
  "kernelspec": {
   "display_name": "Bash",
   "language": "bash",
   "name": "bash"
  },
  "language_info": {
   "codemirror_mode": "shell",
   "file_extension": ".sh",
   "mimetype": "text/x-sh",
   "name": "bash"
  }
 },
 "nbformat": 4,
 "nbformat_minor": 2
}
